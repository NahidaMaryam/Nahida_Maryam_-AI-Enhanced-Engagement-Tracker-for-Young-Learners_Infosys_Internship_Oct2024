{
 "cells": [
  {
   "cell_type": "code",
   "execution_count": 1,
   "id": "efd42b8a-80a0-448a-b351-3f3225c30dec",
   "metadata": {},
   "outputs": [
    {
     "name": "stdout",
     "output_type": "stream",
     "text": [
      "Image not found: /home/maryam/guns/img/3.jpeg\n",
      "Image not found: /home/maryam/guns/img/classes.jpeg\n",
      "Image not found: /home/maryam/guns/img/2.xml.jpeg\n",
      "Image not found: /home/maryam/guns/img/1.jpeg\n",
      "Image not found: /home/maryam/guns/img/4.jpeg\n"
     ]
    }
   ],
   "source": [
    "import cv2\n",
    "import os\n",
    "\n",
    "def draw_bbox(image_dir, label_dir, output_dir, img_ext=\".jpeg\", label_ext=\".txt\"):\n",
    "    if not os.path.exists(output_dir):\n",
    "        os.makedirs(output_dir)\n",
    "\n",
    "    for label_file in os.listdir(label_dir):\n",
    "        if label_file.endswith(label_ext):\n",
    "            img_file = label_file.replace(label_ext, img_ext)\n",
    "            img_path = os.path.join(image_dir, img_file)\n",
    "            label_path = os.path.join(label_dir, label_file)\n",
    "            \n",
    "            img = cv2.imread('/home/maryam/guns/img')\n",
    "            if img is None:\n",
    "                print(f\"Image not found: {img_path}\")\n",
    "                continue\n",
    "\n",
    "            height, width, _ = img.shape\n",
    "\n",
    "            with open(label_path, \"r\") as f:\n",
    "                for line in f.readlines():\n",
    "                    values = line.strip().split()\n",
    "                    class_id = int(values[0])\n",
    "                    x_center, y_center, bbox_width, bbox_height = map(float, values[1:])\n",
    "\n",
    "                    x1 = int((x_center - bbox_width / 2) * width)\n",
    "                    y1 = int((y_center - bbox_height / 2) * height)\n",
    "                    x2 = int((x_center + bbox_width / 2) * width)\n",
    "                    y2 = int((y_center + bbox_height / 2) * height)\n",
    "\n",
    "                    color = (0, 255, 0)\n",
    "                    cv2.rectangle(img, (x1, y1), (x2, y2), color, 2)\n",
    "\n",
    "                    label = f\"Class {class_id}\"\n",
    "                    cv2.putText(img, label, (x1, y1 - 10), cv2.FONT_HERSHEY_SIMPLEX, 0.9, color, 2)\n",
    "\n",
    "            output_img_path = os.path.join(output_dir, img_file)\n",
    "            cv2.imwrite(output_img_path, img)\n",
    "\n",
    "            print(f\"Processed: {output_img_path}\")\n",
    "\n",
    "image_dir = '/home/maryam/guns/img'\n",
    "label_dir = '/home/maryam/guns/labels'\n",
    "output_dir = '/home/maryam/guns/output'\n",
    "\n",
    "draw_bbox(image_dir, label_dir, output_dir)"
   ]
  },
  {
   "cell_type": "code",
   "execution_count": null,
   "id": "dbcab7c7-a959-4377-b956-14acf8e79c69",
   "metadata": {},
   "outputs": [],
   "source": []
  },
  {
   "cell_type": "code",
   "execution_count": null,
   "id": "059c02c9-8014-4eea-913a-41fdeb6ff524",
   "metadata": {},
   "outputs": [],
   "source": []
  }
 ],
 "metadata": {
  "kernelspec": {
   "display_name": "Python 3 (ipykernel)",
   "language": "python",
   "name": "python3"
  },
  "language_info": {
   "codemirror_mode": {
    "name": "ipython",
    "version": 3
   },
   "file_extension": ".py",
   "mimetype": "text/x-python",
   "name": "python",
   "nbconvert_exporter": "python",
   "pygments_lexer": "ipython3",
   "version": "3.10.12"
  }
 },
 "nbformat": 4,
 "nbformat_minor": 5
}
