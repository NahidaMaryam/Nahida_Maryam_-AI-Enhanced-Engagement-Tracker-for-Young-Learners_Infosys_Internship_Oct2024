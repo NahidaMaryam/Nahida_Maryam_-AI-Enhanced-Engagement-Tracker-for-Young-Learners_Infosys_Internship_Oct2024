{
 "cells": [
  {
   "cell_type": "code",
   "execution_count": null,
   "id": "2ddd431a-bfcb-4ff0-8fea-d4c337a188e2",
   "metadata": {},
   "outputs": [],
   "source": [
    "import cv2\n",
    "import numpy as np\n",
    "\n",
    "img = cv2.imread('/home/maryam/Downloads/image1.jpg', 0)\n",
    "kernel = np.ones((5,5), np.uint8)\n",
    "\n",
    "opening = cv2.morphologyEx(img, cv2.MORPH_OPEN, kernel)\n",
    "closing = cv2.morphologyEx(img, cv2.MORPH_CLOSE, kernel)\n",
    "\n",
    "cv2.imshow('Opening (Noise Removal)', opening)\n",
    "cv2.imshow('Closing (Fill Gaps)', closing)\n",
    "cv2.waitKey(0)\n",
    "cv2.destroyAllWindows()\n",
    "\n",
    "\n"
   ]
  },
  {
   "cell_type": "code",
   "execution_count": null,
   "id": "a61f3a12-4559-4b08-a655-435ca349c140",
   "metadata": {},
   "outputs": [],
   "source": []
  }
 ],
 "metadata": {
  "kernelspec": {
   "display_name": "Python 3 (ipykernel)",
   "language": "python",
   "name": "python3"
  },
  "language_info": {
   "codemirror_mode": {
    "name": "ipython",
    "version": 3
   },
   "file_extension": ".py",
   "mimetype": "text/x-python",
   "name": "python",
   "nbconvert_exporter": "python",
   "pygments_lexer": "ipython3",
   "version": "3.10.12"
  }
 },
 "nbformat": 4,
 "nbformat_minor": 5
}
