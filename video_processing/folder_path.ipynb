{
 "cells": [
  {
   "cell_type": "code",
   "execution_count": null,
   "id": "5e578703-b4d0-4884-b9a8-66e09fdc8e85",
   "metadata": {},
   "outputs": [],
   "source": [
    "import cv2\n",
    "import os\n",
    "\n",
    "folder_path = \"/home/maryam/image\"\n",
    "\n",
    "\n",
    "for filename in os.listdir(folder_path):\n",
    "   \n",
    "    file_path = os.path.join(folder_path, filename)\n",
    "\n",
    "    image = cv2.imread(file_path)\n",
    "    if image is not None:\n",
    "       \n",
    "        cv2.imshow('Image', image)\n",
    "        cv2.waitKey(0)      \n",
    "        cv2.destroyAllWindows()\n",
    "        print(f\"{filename} dimensions: {image.shape}\")\n",
    "    else:\n",
    "        print(f\"Failed to load {filename}\")"
   ]
  }
 ],
 "metadata": {
  "kernelspec": {
   "display_name": "Python 3 (ipykernel)",
   "language": "python",
   "name": "python3"
  },
  "language_info": {
   "codemirror_mode": {
    "name": "ipython",
    "version": 3
   },
   "file_extension": ".py",
   "mimetype": "text/x-python",
   "name": "python",
   "nbconvert_exporter": "python",
   "pygments_lexer": "ipython3",
   "version": "3.10.12"
  }
 },
 "nbformat": 4,
 "nbformat_minor": 5
}
