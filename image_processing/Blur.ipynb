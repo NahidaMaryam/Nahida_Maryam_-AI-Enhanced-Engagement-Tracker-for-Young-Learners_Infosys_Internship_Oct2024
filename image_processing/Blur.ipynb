{
 "cells": [
  {
   "cell_type": "code",
   "execution_count": null,
   "id": "5024b7e6-0a5a-4758-b50f-65909022aa42",
   "metadata": {},
   "outputs": [],
   "source": [
    "import cv2\n",
    "\n",
    "img = cv2.imread('/home/maryam/Downloads/image1.jpg')\n",
    "blur = cv2.GaussianBlur(img, (15, 15), 0)\n",
    "\n",
    "cv2.imshow('Blurred Image', blur)\n",
    "cv2.waitKey(0)\n",
    "cv2.destroyAllWindows() "
   ]
  },
  {
   "cell_type": "code",
   "execution_count": null,
   "id": "fc170ce2-3bf5-489d-aec8-5d9c1412d35a",
   "metadata": {},
   "outputs": [],
   "source": []
  }
 ],
 "metadata": {
  "kernelspec": {
   "display_name": "Python 3 (ipykernel)",
   "language": "python",
   "name": "python3"
  },
  "language_info": {
   "codemirror_mode": {
    "name": "ipython",
    "version": 3
   },
   "file_extension": ".py",
   "mimetype": "text/x-python",
   "name": "python",
   "nbconvert_exporter": "python",
   "pygments_lexer": "ipython3",
   "version": "3.10.12"
  }
 },
 "nbformat": 4,
 "nbformat_minor": 5
}
