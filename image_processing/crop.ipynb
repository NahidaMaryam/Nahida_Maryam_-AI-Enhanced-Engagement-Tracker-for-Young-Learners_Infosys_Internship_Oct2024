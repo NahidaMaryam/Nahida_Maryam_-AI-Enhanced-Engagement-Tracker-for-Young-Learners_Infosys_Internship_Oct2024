{
 "cells": [
  {
   "cell_type": "code",
   "execution_count": null,
   "id": "fd3b03ed-663a-451d-a9e3-3de4c13748bb",
   "metadata": {},
   "outputs": [],
   "source": [
    "import cv2\n",
    "\n",
    "img = cv2.imread('/home/maryam/Downloads/image1.jpg')\n",
    "cropped = img[50:200, 100:300]\n",
    "\n",
    "cv2.imshow('Cropped Image', cropped)\n",
    "cv2.waitKey(0)\n",
    "cv2.destroyAllWindows()"
   ]
  },
  {
   "cell_type": "code",
   "execution_count": null,
   "id": "772f7537-3d2a-47f0-affd-1ef5c82380a3",
   "metadata": {},
   "outputs": [],
   "source": []
  }
 ],
 "metadata": {
  "kernelspec": {
   "display_name": "Python 3 (ipykernel)",
   "language": "python",
   "name": "python3"
  },
  "language_info": {
   "codemirror_mode": {
    "name": "ipython",
    "version": 3
   },
   "file_extension": ".py",
   "mimetype": "text/x-python",
   "name": "python",
   "nbconvert_exporter": "python",
   "pygments_lexer": "ipython3",
   "version": "3.10.12"
  }
 },
 "nbformat": 4,
 "nbformat_minor": 5
}
