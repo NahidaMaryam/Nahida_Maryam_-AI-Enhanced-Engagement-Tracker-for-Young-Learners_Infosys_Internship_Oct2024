{
 "cells": [
  {
   "cell_type": "code",
   "execution_count": null,
   "id": "17fac3c5-39ef-4c5d-bec0-d4acb4b96b9b",
   "metadata": {},
   "outputs": [],
   "source": [
    "import cv2\n",
    "import numpy as np\n",
    "\n",
    "img1 = cv2.imread('/home/maryam/Downloads/image1.jpg')\n",
    "img2 = cv2.imread('/home/maryam/Downloads/image2.jpg')\n",
    "\n",
    "img1 = cv2.resize(img1, (500, 500))\n",
    "img2 = cv2.resize(img2, (500, 500))\n",
    "\n",
    "h_concat = np.hstack((img1, img2))\n",
    "v_concat = np.vstack((img1, img2))\n",
    "\n",
    "cv2.imshow('Horizontal Concatenation', h_concat)\n",
    "cv2.imshow('Vertical Concatenation', v_concat)\n",
    "\n",
    "cv2.waitKey(0)\n",
    "cv2.destroyAllWindows()"
   ]
  },
  {
   "cell_type": "code",
   "execution_count": null,
   "id": "e5933df3-70b3-48f4-8c6e-32d15a7c8d02",
   "metadata": {},
   "outputs": [],
   "source": []
  }
 ],
 "metadata": {
  "kernelspec": {
   "display_name": "Python 3 (ipykernel)",
   "language": "python",
   "name": "python3"
  },
  "language_info": {
   "codemirror_mode": {
    "name": "ipython",
    "version": 3
   },
   "file_extension": ".py",
   "mimetype": "text/x-python",
   "name": "python",
   "nbconvert_exporter": "python",
   "pygments_lexer": "ipython3",
   "version": "3.10.12"
  }
 },
 "nbformat": 4,
 "nbformat_minor": 5
}
