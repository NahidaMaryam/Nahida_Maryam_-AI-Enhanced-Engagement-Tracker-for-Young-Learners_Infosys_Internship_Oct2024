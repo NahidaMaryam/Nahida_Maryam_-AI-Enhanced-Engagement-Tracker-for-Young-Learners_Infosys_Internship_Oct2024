{
 "cells": [
  {
   "cell_type": "code",
   "execution_count": null,
   "id": "6899b8a2-0166-4422-ad50-b623e67f7f7b",
   "metadata": {},
   "outputs": [],
   "source": [
    "import cv2\n",
    "# Read an image\n",
    "image = cv2.imread('/home/maryam/Downloads/image1.jpg')\n",
    "\n",
    "# Display the image using OpenCV\n",
    "cv2.imshow('Image', image)\n",
    "cv2.waitKey(0)\n",
    "cv2.destroyAllWindows()\n",
    "\n",
    "# To check dimensions of the image\n",
    "print(image.shape)\n",
    "\n"
   ]
  },
  {
   "cell_type": "code",
   "execution_count": null,
   "id": "95c10ffc-4771-45c2-b8e2-0cb74ed67b62",
   "metadata": {},
   "outputs": [],
   "source": []
  }
 ],
 "metadata": {
  "kernelspec": {
   "display_name": "Python 3 (ipykernel)",
   "language": "python",
   "name": "python3"
  },
  "language_info": {
   "codemirror_mode": {
    "name": "ipython",
    "version": 3
   },
   "file_extension": ".py",
   "mimetype": "text/x-python",
   "name": "python",
   "nbconvert_exporter": "python",
   "pygments_lexer": "ipython3",
   "version": "3.10.12"
  }
 },
 "nbformat": 4,
 "nbformat_minor": 5
}
